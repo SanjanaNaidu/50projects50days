{
  "nbformat": 4,
  "nbformat_minor": 0,
  "metadata": {
    "colab": {
      "provenance": [],
      "authorship_tag": "ABX9TyMCnO/9x++Nlc4OY23vqE1R",
      "include_colab_link": true
    },
    "kernelspec": {
      "name": "python3",
      "display_name": "Python 3"
    },
    "language_info": {
      "name": "python"
    }
  },
  "cells": [
    {
      "cell_type": "markdown",
      "metadata": {
        "id": "view-in-github",
        "colab_type": "text"
      },
      "source": [
        "<a href=\"https://colab.research.google.com/github/SanjanaNaidu/50projects50days/blob/master/insertion.ipynb\" target=\"_parent\"><img src=\"https://colab.research.google.com/assets/colab-badge.svg\" alt=\"Open In Colab\"/></a>"
      ]
    },
    {
      "cell_type": "code",
      "execution_count": 1,
      "metadata": {
        "id": "gUlWGYarx7PV"
      },
      "outputs": [],
      "source": [
        "import time\n",
        "import random\n",
        "import matplotlib.pyplot as plt"
      ]
    },
    {
      "cell_type": "code",
      "source": [
        "def insertion_sort(l):  \n",
        "    for i in range(1, len(l)):  \n",
        "        value = l[i]  \n",
        "        j = i - 1  \n",
        "        while j >= 0 and value < l[j]:  \n",
        "                l[j + 1] = l[j]  \n",
        "                j -= 1  \n",
        "                l[j + 1] = value\n",
        "    return l\n"
      ],
      "metadata": {
        "id": "m_ZIdbv8yGUf"
      },
      "execution_count": 7,
      "outputs": []
    },
    {
      "cell_type": "code",
      "source": [
        "l=[3,4,1]\n",
        "s=insertion_sort(l)\n",
        "print(s)"
      ],
      "metadata": {
        "colab": {
          "base_uri": "https://localhost:8080/"
        },
        "id": "n65Gvi4by40d",
        "outputId": "d4b9b49d-c098-49c5-cbbc-acddd5747c24"
      },
      "execution_count": 8,
      "outputs": [
        {
          "output_type": "stream",
          "name": "stdout",
          "text": [
            "[1, 3, 4]\n"
          ]
        }
      ]
    },
    {
      "cell_type": "code",
      "source": [
        "import random\n",
        "import time\n",
        "import matplotlib.pyplot as plt\n",
        "l1=[]\n",
        "k=1000\n",
        "#ss1=[]\n",
        "is1=[]\n",
        "#ms1=[]\n",
        "inputlist=[]\n",
        "while k<=10000:\n",
        "    print(\"Sorting algorithms for input size k=\",k)\n",
        "    for i in range(0,k):\n",
        "        l1.append(random.randint(0,1000))\n",
        "    sorted(l1)\n",
        "    begin=time.time()\n",
        "    for i in range(0,10):\n",
        "        new=l1\n",
        "        insertion_sort(new)\n",
        "    end=time.time()\n",
        "    print('For input size ',k,'average time for insertion sort algorithm to sort a sorted list',(end-begin)/10)\n",
        "    inputlist.append((end-begin)/10)\n",
        "    begin=time.time()\n",
        "    \n",
        "    k+=1000\n",
        "    print('-'*50)\n",
        "#plt.plot(inputlist,ss1,label='Selection Sort')\n",
        "plt.plot(inputlist,is1,label='Insertion Sort')\n",
        "#plt.plot(inputlist,ms1,label='Merge Sort')\n",
        "plt.xlabel('Input List')\n",
        "plt.ylabel('Sorting Time')\n",
        "plt.title('Sorting Algorithms vs Time for sorted list')\n",
        "plt.legend()\n",
        "plt.show()"
      ],
      "metadata": {
        "colab": {
          "base_uri": "https://localhost:8080/",
          "height": 1000
        },
        "id": "RHPdwmCBzfO4",
        "outputId": "e9cd1796-4c56-41d0-8fb4-ea2ba92465fa"
      },
      "execution_count": 12,
      "outputs": [
        {
          "output_type": "stream",
          "name": "stdout",
          "text": [
            "Sorting algorithms for input size k= 1000\n",
            "For input size  1000 average time for insertion sort algorithm to sort a sorted list 0.006513547897338867\n",
            "--------------------------------------------------\n",
            "Sorting algorithms for input size k= 2000\n",
            "For input size  2000 average time for insertion sort algorithm to sort a sorted list 0.05511784553527832\n",
            "--------------------------------------------------\n",
            "Sorting algorithms for input size k= 3000\n",
            "For input size  3000 average time for insertion sort algorithm to sort a sorted list 0.18563194274902345\n",
            "--------------------------------------------------\n",
            "Sorting algorithms for input size k= 4000\n",
            "For input size  4000 average time for insertion sort algorithm to sort a sorted list 0.7557263851165772\n",
            "--------------------------------------------------\n",
            "Sorting algorithms for input size k= 5000\n",
            "For input size  5000 average time for insertion sort algorithm to sort a sorted list 1.0286077499389648\n",
            "--------------------------------------------------\n",
            "Sorting algorithms for input size k= 6000\n",
            "For input size  6000 average time for insertion sort algorithm to sort a sorted list 1.6388988494873047\n",
            "--------------------------------------------------\n",
            "Sorting algorithms for input size k= 7000\n",
            "For input size  7000 average time for insertion sort algorithm to sort a sorted list 2.3125688791275025\n",
            "--------------------------------------------------\n",
            "Sorting algorithms for input size k= 8000\n",
            "For input size  8000 average time for insertion sort algorithm to sort a sorted list 3.555791974067688\n",
            "--------------------------------------------------\n",
            "Sorting algorithms for input size k= 9000\n",
            "For input size  9000 average time for insertion sort algorithm to sort a sorted list 5.448668670654297\n",
            "--------------------------------------------------\n",
            "Sorting algorithms for input size k= 10000\n",
            "For input size  10000 average time for insertion sort algorithm to sort a sorted list 7.428207778930664\n",
            "--------------------------------------------------\n"
          ]
        },
        {
          "output_type": "error",
          "ename": "ValueError",
          "evalue": "ignored",
          "traceback": [
            "\u001b[0;31m---------------------------------------------------------------------------\u001b[0m",
            "\u001b[0;31mValueError\u001b[0m                                Traceback (most recent call last)",
            "\u001b[0;32m<ipython-input-12-a7a218a53770>\u001b[0m in \u001b[0;36m<module>\u001b[0;34m\u001b[0m\n\u001b[1;32m     25\u001b[0m     \u001b[0mprint\u001b[0m\u001b[0;34m(\u001b[0m\u001b[0;34m'-'\u001b[0m\u001b[0;34m*\u001b[0m\u001b[0;36m50\u001b[0m\u001b[0;34m)\u001b[0m\u001b[0;34m\u001b[0m\u001b[0;34m\u001b[0m\u001b[0m\n\u001b[1;32m     26\u001b[0m \u001b[0;31m#plt.plot(inputlist,ss1,label='Selection Sort')\u001b[0m\u001b[0;34m\u001b[0m\u001b[0;34m\u001b[0m\u001b[0;34m\u001b[0m\u001b[0m\n\u001b[0;32m---> 27\u001b[0;31m \u001b[0mplt\u001b[0m\u001b[0;34m.\u001b[0m\u001b[0mplot\u001b[0m\u001b[0;34m(\u001b[0m\u001b[0minputlist\u001b[0m\u001b[0;34m,\u001b[0m\u001b[0mis1\u001b[0m\u001b[0;34m,\u001b[0m\u001b[0mlabel\u001b[0m\u001b[0;34m=\u001b[0m\u001b[0;34m'Insertion Sort'\u001b[0m\u001b[0;34m)\u001b[0m\u001b[0;34m\u001b[0m\u001b[0;34m\u001b[0m\u001b[0m\n\u001b[0m\u001b[1;32m     28\u001b[0m \u001b[0;31m#plt.plot(inputlist,ms1,label='Merge Sort')\u001b[0m\u001b[0;34m\u001b[0m\u001b[0;34m\u001b[0m\u001b[0;34m\u001b[0m\u001b[0m\n\u001b[1;32m     29\u001b[0m \u001b[0mplt\u001b[0m\u001b[0;34m.\u001b[0m\u001b[0mxlabel\u001b[0m\u001b[0;34m(\u001b[0m\u001b[0;34m'Input List'\u001b[0m\u001b[0;34m)\u001b[0m\u001b[0;34m\u001b[0m\u001b[0;34m\u001b[0m\u001b[0m\n",
            "\u001b[0;32m/usr/local/lib/python3.7/dist-packages/matplotlib/pyplot.py\u001b[0m in \u001b[0;36mplot\u001b[0;34m(scalex, scaley, data, *args, **kwargs)\u001b[0m\n\u001b[1;32m   2761\u001b[0m     return gca().plot(\n\u001b[1;32m   2762\u001b[0m         *args, scalex=scalex, scaley=scaley, **({\"data\": data} if data\n\u001b[0;32m-> 2763\u001b[0;31m         is not None else {}), **kwargs)\n\u001b[0m\u001b[1;32m   2764\u001b[0m \u001b[0;34m\u001b[0m\u001b[0m\n\u001b[1;32m   2765\u001b[0m \u001b[0;34m\u001b[0m\u001b[0m\n",
            "\u001b[0;32m/usr/local/lib/python3.7/dist-packages/matplotlib/axes/_axes.py\u001b[0m in \u001b[0;36mplot\u001b[0;34m(self, scalex, scaley, data, *args, **kwargs)\u001b[0m\n\u001b[1;32m   1645\u001b[0m         \"\"\"\n\u001b[1;32m   1646\u001b[0m         \u001b[0mkwargs\u001b[0m \u001b[0;34m=\u001b[0m \u001b[0mcbook\u001b[0m\u001b[0;34m.\u001b[0m\u001b[0mnormalize_kwargs\u001b[0m\u001b[0;34m(\u001b[0m\u001b[0mkwargs\u001b[0m\u001b[0;34m,\u001b[0m \u001b[0mmlines\u001b[0m\u001b[0;34m.\u001b[0m\u001b[0mLine2D\u001b[0m\u001b[0;34m)\u001b[0m\u001b[0;34m\u001b[0m\u001b[0;34m\u001b[0m\u001b[0m\n\u001b[0;32m-> 1647\u001b[0;31m         \u001b[0mlines\u001b[0m \u001b[0;34m=\u001b[0m \u001b[0;34m[\u001b[0m\u001b[0;34m*\u001b[0m\u001b[0mself\u001b[0m\u001b[0;34m.\u001b[0m\u001b[0m_get_lines\u001b[0m\u001b[0;34m(\u001b[0m\u001b[0;34m*\u001b[0m\u001b[0margs\u001b[0m\u001b[0;34m,\u001b[0m \u001b[0mdata\u001b[0m\u001b[0;34m=\u001b[0m\u001b[0mdata\u001b[0m\u001b[0;34m,\u001b[0m \u001b[0;34m**\u001b[0m\u001b[0mkwargs\u001b[0m\u001b[0;34m)\u001b[0m\u001b[0;34m]\u001b[0m\u001b[0;34m\u001b[0m\u001b[0;34m\u001b[0m\u001b[0m\n\u001b[0m\u001b[1;32m   1648\u001b[0m         \u001b[0;32mfor\u001b[0m \u001b[0mline\u001b[0m \u001b[0;32min\u001b[0m \u001b[0mlines\u001b[0m\u001b[0;34m:\u001b[0m\u001b[0;34m\u001b[0m\u001b[0;34m\u001b[0m\u001b[0m\n\u001b[1;32m   1649\u001b[0m             \u001b[0mself\u001b[0m\u001b[0;34m.\u001b[0m\u001b[0madd_line\u001b[0m\u001b[0;34m(\u001b[0m\u001b[0mline\u001b[0m\u001b[0;34m)\u001b[0m\u001b[0;34m\u001b[0m\u001b[0;34m\u001b[0m\u001b[0m\n",
            "\u001b[0;32m/usr/local/lib/python3.7/dist-packages/matplotlib/axes/_base.py\u001b[0m in \u001b[0;36m__call__\u001b[0;34m(self, *args, **kwargs)\u001b[0m\n\u001b[1;32m    214\u001b[0m                 \u001b[0mthis\u001b[0m \u001b[0;34m+=\u001b[0m \u001b[0margs\u001b[0m\u001b[0;34m[\u001b[0m\u001b[0;36m0\u001b[0m\u001b[0;34m]\u001b[0m\u001b[0;34m,\u001b[0m\u001b[0;34m\u001b[0m\u001b[0;34m\u001b[0m\u001b[0m\n\u001b[1;32m    215\u001b[0m                 \u001b[0margs\u001b[0m \u001b[0;34m=\u001b[0m \u001b[0margs\u001b[0m\u001b[0;34m[\u001b[0m\u001b[0;36m1\u001b[0m\u001b[0;34m:\u001b[0m\u001b[0;34m]\u001b[0m\u001b[0;34m\u001b[0m\u001b[0;34m\u001b[0m\u001b[0m\n\u001b[0;32m--> 216\u001b[0;31m             \u001b[0;32myield\u001b[0m \u001b[0;32mfrom\u001b[0m \u001b[0mself\u001b[0m\u001b[0;34m.\u001b[0m\u001b[0m_plot_args\u001b[0m\u001b[0;34m(\u001b[0m\u001b[0mthis\u001b[0m\u001b[0;34m,\u001b[0m \u001b[0mkwargs\u001b[0m\u001b[0;34m)\u001b[0m\u001b[0;34m\u001b[0m\u001b[0;34m\u001b[0m\u001b[0m\n\u001b[0m\u001b[1;32m    217\u001b[0m \u001b[0;34m\u001b[0m\u001b[0m\n\u001b[1;32m    218\u001b[0m     \u001b[0;32mdef\u001b[0m \u001b[0mget_next_color\u001b[0m\u001b[0;34m(\u001b[0m\u001b[0mself\u001b[0m\u001b[0;34m)\u001b[0m\u001b[0;34m:\u001b[0m\u001b[0;34m\u001b[0m\u001b[0;34m\u001b[0m\u001b[0m\n",
            "\u001b[0;32m/usr/local/lib/python3.7/dist-packages/matplotlib/axes/_base.py\u001b[0m in \u001b[0;36m_plot_args\u001b[0;34m(self, tup, kwargs)\u001b[0m\n\u001b[1;32m    340\u001b[0m \u001b[0;34m\u001b[0m\u001b[0m\n\u001b[1;32m    341\u001b[0m         \u001b[0;32mif\u001b[0m \u001b[0mx\u001b[0m\u001b[0;34m.\u001b[0m\u001b[0mshape\u001b[0m\u001b[0;34m[\u001b[0m\u001b[0;36m0\u001b[0m\u001b[0;34m]\u001b[0m \u001b[0;34m!=\u001b[0m \u001b[0my\u001b[0m\u001b[0;34m.\u001b[0m\u001b[0mshape\u001b[0m\u001b[0;34m[\u001b[0m\u001b[0;36m0\u001b[0m\u001b[0;34m]\u001b[0m\u001b[0;34m:\u001b[0m\u001b[0;34m\u001b[0m\u001b[0;34m\u001b[0m\u001b[0m\n\u001b[0;32m--> 342\u001b[0;31m             raise ValueError(f\"x and y must have same first dimension, but \"\n\u001b[0m\u001b[1;32m    343\u001b[0m                              f\"have shapes {x.shape} and {y.shape}\")\n\u001b[1;32m    344\u001b[0m         \u001b[0;32mif\u001b[0m \u001b[0mx\u001b[0m\u001b[0;34m.\u001b[0m\u001b[0mndim\u001b[0m \u001b[0;34m>\u001b[0m \u001b[0;36m2\u001b[0m \u001b[0;32mor\u001b[0m \u001b[0my\u001b[0m\u001b[0;34m.\u001b[0m\u001b[0mndim\u001b[0m \u001b[0;34m>\u001b[0m \u001b[0;36m2\u001b[0m\u001b[0;34m:\u001b[0m\u001b[0;34m\u001b[0m\u001b[0;34m\u001b[0m\u001b[0m\n",
            "\u001b[0;31mValueError\u001b[0m: x and y must have same first dimension, but have shapes (10,) and (0,)"
          ]
        },
        {
          "output_type": "display_data",
          "data": {
            "text/plain": [
              "<Figure size 432x288 with 1 Axes>"
            ],
            "image/png": "[encoded data removed]"
          },
          "metadata": {
            "needs_background": "light"
          }
        }
      ]
    },
    {
      "cell_type": "code",
      "source": [
        "import random\n",
        "import time\n",
        "import matplotlib.pyplot as plt\n",
        "l1=[]\n",
        "k=1000\n",
        "#ss1=[]\n",
        "is2=[]\n",
        "#ms1=[]\n",
        "inputlist=[]\n",
        "while k<=10000:\n",
        "    print(\"Sorting algorithms for input size k=\",k)\n",
        "    for i in range(0,k):\n",
        "        l1.append(random.randint(0,1000))\n",
        "    l1.sorted(reverse=True)\n",
        "    begin=time.time()\n",
        "    for i in range(0,10):\n",
        "        new=l1\n",
        "        insertion_sort(new)\n",
        "    end=time.time()\n",
        "    print('For input size ',k,'average time for insertion sort algorithm to sort a sorted list',(end-begin)/10)\n",
        "    inputlist.append((end-begin)/10)\n",
        "    begin=time.time()\n",
        "    \n",
        "    k+=1000\n",
        "    print('-'*50)\n",
        "#plt.plot(inputlist,ss1,label='Selection Sort')\n",
        "plt.plot(inputlist,is2,label='Insertion Sort')\n",
        "#plt.plot(inputlist,ms1,label='Merge Sort')\n",
        "plt.xlabel('Input List')\n",
        "plt.ylabel('Sorting Time')\n",
        "plt.title('Sorting Algorithms vs Time for sorted list')\n",
        "plt.legend()\n",
        "plt.show()"
      ],
      "metadata": {
        "id": "wrzCPBXz0Btc"
      },
      "execution_count": null,
      "outputs": []
    },
    {
      "cell_type": "code",
      "source": [
        "import random\n",
        "import time\n",
        "import matplotlib.pyplot as plt\n",
        "l1=[]\n",
        "k=1000\n",
        "#ss1=[]\n",
        "is3=[]\n",
        "#ms1=[]\n",
        "inputlist=[]\n",
        "while k<=10000:\n",
        "    print(\"Sorting algorithms for input size k=\",k)\n",
        "    for i in range(0,k):\n",
        "        l1.append(random.randint(0,1000))\n",
        "    \n",
        "    begin=time.time()\n",
        "    for i in range(0,10):\n",
        "        new=l1\n",
        "        insertion_sort(new)\n",
        "    end=time.time()\n",
        "    print('For input size ',k,'average time for insertion sort algorithm to sort a sorted list',(end-begin)/10)\n",
        "    inputlist.append((end-begin)/10)\n",
        "    begin=time.time()\n",
        "    \n",
        "    k+=1000\n",
        "    print('-'*50)\n",
        "#plt.plot(inputlist,ss1,label='Selection Sort')\n",
        "plt.plot(inputlist,is3,label='Insertion Sort')\n",
        "#plt.plot(inputlist,ms1,label='Merge Sort')\n",
        "plt.xlabel('Input List')\n",
        "plt.ylabel('Sorting Time')\n",
        "plt.title('Sorting Algorithms vs Time for sorted list')\n",
        "plt.legend()\n",
        "plt.show()"
      ],
      "metadata": {
        "id": "mSGhAND50YWx"
      },
      "execution_count": null,
      "outputs": []
    }
  ]
}