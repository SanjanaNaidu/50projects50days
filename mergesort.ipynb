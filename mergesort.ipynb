{
  "nbformat": 4,
  "nbformat_minor": 0,
  "metadata": {
    "colab": {
      "provenance": [],
      "collapsed_sections": [],
      "authorship_tag": "ABX9TyPuVvaeAj/HSEopMLgf3Q1A",
      "include_colab_link": true
    },
    "kernelspec": {
      "name": "python3",
      "display_name": "Python 3"
    },
    "language_info": {
      "name": "python"
    }
  },
  "cells": [
    {
      "cell_type": "markdown",
      "metadata": {
        "id": "view-in-github",
        "colab_type": "text"
      },
      "source": [
        "<a href=\"https://colab.research.google.com/github/SanjanaNaidu/50projects50days/blob/master/mergesort.ipynb\" target=\"_parent\"><img src=\"https://colab.research.google.com/assets/colab-badge.svg\" alt=\"Open In Colab\"/></a>"
      ]
    },
    {
      "cell_type": "code",
      "execution_count": null,
      "metadata": {
        "id": "82VtNlTB0y50"
      },
      "outputs": [],
      "source": [
        "import time\n",
        "import random\n",
        "import matplotlib.pyplot as plt"
      ]
    },
    {
      "cell_type": "markdown",
      "source": [
        "IMPORTING THE REQUIRED LIBRARIES"
      ],
      "metadata": {
        "id": "HtuiX4a3uU-A"
      }
    },
    {
      "cell_type": "markdown",
      "source": [
        "fUNCTION FOR MERGE SORT"
      ],
      "metadata": {
        "id": "ATxekQbxubUj"
      }
    },
    {
      "cell_type": "code",
      "source": [
        "\n",
        "def mergeSort(arr):\n",
        "\tif len(arr) > 1:\n",
        "\t\tmid = len(arr)//2\n",
        "\t\tL = arr[:mid]\n",
        "\n",
        "\n",
        "\t\tR = arr[mid:]\n",
        "\n",
        "\t\t\n",
        "\t\tmergeSort(L)\n",
        "\n",
        "\t\n",
        "\t\tmergeSort(R)\n",
        "\n",
        "\t\ti = j = k = 0\n",
        "\n",
        "\t\n",
        "\t\twhile i < len(L) and j < len(R):\n",
        "\t\t\tif L[i] < R[j]:\n",
        "\t\t\t\tarr[k] = L[i]\n",
        "\t\t\t\ti += 1\n",
        "\t\t\telse:\n",
        "\t\t\t\tarr[k] = R[j]\n",
        "\t\t\t\tj += 1\n",
        "\t\t\tk += 1\n",
        "\n",
        "\t\n",
        "\t\twhile i < len(L):\n",
        "\t\t\tarr[k] = L[i]\n",
        "\t\t\ti += 1\n",
        "\t\t\tk += 1\n",
        "\n",
        "\t\twhile j < len(R):\n",
        "\t\t\tarr[k] = R[j]\n",
        "\t\t\tj += 1\n",
        "\t\t\tk += 1\n",
        "def printList(arr):\n",
        "\tfor i in range(len(arr)):\n",
        "\t\tprint(arr[i], end=\" \")\n",
        "\tprint()\n",
        "arr=[4,8,1,3,9,45]\n",
        "mergeSort(arr)\n",
        "printList(arr)\n"
      ],
      "metadata": {
        "colab": {
          "base_uri": "https://localhost:8080/"
        },
        "id": "2XFkyzkm1B6t",
        "outputId": "04c3afe2-50fe-4c7a-dee7-836d86ef01ee"
      },
      "execution_count": null,
      "outputs": [
        {
          "output_type": "stream",
          "name": "stdout",
          "text": [
            "Sorted array is: \n",
            "1 3 4 8 9 45 \n"
          ]
        }
      ]
    },
    {
      "cell_type": "markdown",
      "source": [],
      "metadata": {
        "id": "_1d4_V9nuQjM"
      }
    },
    {
      "cell_type": "markdown",
      "source": [],
      "metadata": {
        "id": "ZBl3aiKCuR6y"
      }
    },
    {
      "cell_type": "code",
      "source": [
        "FINDING THE EMPIRICAL ANALYSIS FOR THE BEST CASE"
      ],
      "metadata": {
        "colab": {
          "base_uri": "https://localhost:8080/"
        },
        "id": "OXSdsSxS1EFD",
        "outputId": "7fc0b75e-cb9b-49c3-ed7f-4c07fb6133b1"
      },
      "execution_count": null,
      "outputs": [
        {
          "output_type": "stream",
          "name": "stdout",
          "text": [
            "None\n"
          ]
        }
      ]
    },
    {
      "cell_type": "code",
      "source": [
        "import random\n",
        "import time\n",
        "import matplotlib.pyplot as plt\n",
        "l1=[]\n",
        "k=1000\n",
        "\n",
        "\n",
        "ms1=[]\n",
        "inputlist=[]\n",
        "while k<=10000:\n",
        "    print(\"Sorting algorithms for input size k=\",k)\n",
        "    for i in range(0,k):\n",
        "        l1.append(random.randint(0,1000))\n",
        "    sorted(l1)\n",
        "    begin=time.time()\n",
        "    for i in range(0,10):\n",
        "        new=l1\n",
        "        mergeSort(new)\n",
        "    end=time.time()\n",
        "    print('For input size ',k,'average time for selection sort algorithm to sort a sorted list',(end-begin)/10)\n",
        "    ms1.append((end-begin)/10)\n",
        "    inputlist.append(k)\n",
        "    begin=time.time()\n",
        "    \n",
        "    k+=1000\n",
        "    print('-'*50)\n",
        "\n",
        "plt.plot(inputlist,ms1,label='Merge Sort')\n",
        "plt.xlabel('Input List')\n",
        "plt.ylabel('Sorting Time')\n",
        "plt.title('Sorting Algorithms vs Time for sorted list')\n",
        "plt.legend()\n",
        "plt.show()"
      ],
      "metadata": {
        "colab": {
          "base_uri": "https://localhost:8080/",
          "height": 816
        },
        "id": "YUFnOGEu4pPd",
        "outputId": "9763e25e-e40f-4059-f100-bb1fdfa8bae6"
      },
      "execution_count": null,
      "outputs": [
        {
          "output_type": "stream",
          "name": "stdout",
          "text": [
            "Sorting algorithms for input size k= 1000\n",
            "For input size  1000 average time for selection sort algorithm to sort a sorted list 0.004645419120788574\n",
            "--------------------------------------------------\n",
            "Sorting algorithms for input size k= 2000\n",
            "For input size  2000 average time for selection sort algorithm to sort a sorted list 0.015744709968566896\n",
            "--------------------------------------------------\n",
            "Sorting algorithms for input size k= 3000\n",
            "For input size  3000 average time for selection sort algorithm to sort a sorted list 0.033478713035583495\n",
            "--------------------------------------------------\n",
            "Sorting algorithms for input size k= 4000\n",
            "For input size  4000 average time for selection sort algorithm to sort a sorted list 0.05691595077514648\n",
            "--------------------------------------------------\n",
            "Sorting algorithms for input size k= 5000\n",
            "For input size  5000 average time for selection sort algorithm to sort a sorted list 0.08952171802520752\n",
            "--------------------------------------------------\n",
            "Sorting algorithms for input size k= 6000\n",
            "For input size  6000 average time for selection sort algorithm to sort a sorted list 0.12909424304962158\n",
            "--------------------------------------------------\n",
            "Sorting algorithms for input size k= 7000\n",
            "For input size  7000 average time for selection sort algorithm to sort a sorted list 0.17805540561676025\n",
            "--------------------------------------------------\n",
            "Sorting algorithms for input size k= 8000\n",
            "For input size  8000 average time for selection sort algorithm to sort a sorted list 0.2309678316116333\n",
            "--------------------------------------------------\n",
            "Sorting algorithms for input size k= 9000\n",
            "For input size  9000 average time for selection sort algorithm to sort a sorted list 0.29868226051330565\n",
            "--------------------------------------------------\n",
            "Sorting algorithms for input size k= 10000\n",
            "For input size  10000 average time for selection sort algorithm to sort a sorted list 0.3744246482849121\n",
            "--------------------------------------------------\n"
          ]
        },
        {
          "output_type": "display_data",
          "data": {
            "text/plain": [
              "<Figure size 432x288 with 1 Axes>"
            ],
            "image/png": "[encoded data removed]"
          },
          "metadata": {
            "needs_background": "light"
          }
        }
      ]
    },
    {
      "cell_type": "markdown",
      "source": [
        "THE GRAPH HERE IS INCREASING WITH RESPECT TO TIME "
      ],
      "metadata": {
        "id": "r4n7e5A3upS1"
      }
    },
    {
      "cell_type": "markdown",
      "source": [
        "EMPIRICAL ANALYSIS FOR WORST CASE "
      ],
      "metadata": {
        "id": "khnvMc2RuyTh"
      }
    },
    {
      "cell_type": "code",
      "source": [
        "import random\n",
        "import time\n",
        "import matplotlib.pyplot as plt\n",
        "l1=[]\n",
        "k=1000\n",
        "\n",
        "\n",
        "ms2=[]\n",
        "inputlist=[]\n",
        "while k<=10000:\n",
        "    print(\"Sorting algorithms for input size k=\",k)\n",
        "    for i in range(0,k):\n",
        "        l1.append(random.randint(0,1000))\n",
        "    l1.sort(reverse=True)\n",
        "    begin=time.time()\n",
        "    for i in range(0,10):\n",
        "        new=l1\n",
        "        mergeSort(new)\n",
        "    end=time.time()\n",
        "    print('For input size ',k,'average time for selection sort algorithm to sort a sorted list',(end-begin)/10)\n",
        "    ms2.append((end-begin)/10)\n",
        "    inputlist.append(k)\n",
        "    begin=time.time()\n",
        "    \n",
        "    k+=1000\n",
        "    print('-'*50)\n",
        "plt.plot(inputlist,ms2,label='mergesort')\n",
        "plt.xlabel('Input List')\n",
        "plt.ylabel('Sorting Time')\n",
        "plt.title('Sorting Algorithms vs Time for sorted list')\n",
        "plt.legend()\n",
        "plt.show()\n",
        "#plt.plot(inputlist,is1,label='Insertion Sort')\n"
      ],
      "metadata": {
        "colab": {
          "base_uri": "https://localhost:8080/",
          "height": 816
        },
        "id": "M0Ywh3Ob85ys",
        "outputId": "33ddeef4-d312-48bd-a3f5-7031005d78c6"
      },
      "execution_count": null,
      "outputs": [
        {
          "output_type": "stream",
          "name": "stdout",
          "text": [
            "Sorting algorithms for input size k= 1000\n",
            "For input size  1000 average time for selection sort algorithm to sort a sorted list 0.004344487190246582\n",
            "--------------------------------------------------\n",
            "Sorting algorithms for input size k= 2000\n",
            "For input size  2000 average time for selection sort algorithm to sort a sorted list 0.014659595489501954\n",
            "--------------------------------------------------\n",
            "Sorting algorithms for input size k= 3000\n",
            "For input size  3000 average time for selection sort algorithm to sort a sorted list 0.03347434997558594\n",
            "--------------------------------------------------\n",
            "Sorting algorithms for input size k= 4000\n",
            "For input size  4000 average time for selection sort algorithm to sort a sorted list 0.05533356666564941\n",
            "--------------------------------------------------\n",
            "Sorting algorithms for input size k= 5000\n",
            "For input size  5000 average time for selection sort algorithm to sort a sorted list 0.08855674266815186\n",
            "--------------------------------------------------\n",
            "Sorting algorithms for input size k= 6000\n",
            "For input size  6000 average time for selection sort algorithm to sort a sorted list 0.12536883354187012\n",
            "--------------------------------------------------\n",
            "Sorting algorithms for input size k= 7000\n",
            "For input size  7000 average time for selection sort algorithm to sort a sorted list 0.17123589515686036\n",
            "--------------------------------------------------\n",
            "Sorting algorithms for input size k= 8000\n",
            "For input size  8000 average time for selection sort algorithm to sort a sorted list 0.22521474361419677\n",
            "--------------------------------------------------\n",
            "Sorting algorithms for input size k= 9000\n",
            "For input size  9000 average time for selection sort algorithm to sort a sorted list 0.29183435440063477\n",
            "--------------------------------------------------\n",
            "Sorting algorithms for input size k= 10000\n",
            "For input size  10000 average time for selection sort algorithm to sort a sorted list 0.360617470741272\n",
            "--------------------------------------------------\n"
          ]
        },
        {
          "output_type": "display_data",
          "data": {
            "text/plain": [
              "<Figure size 432x288 with 1 Axes>"
            ],
            "image/png": "[encoded data removed]"
          },
          "metadata": {
            "needs_background": "light"
          }
        }
      ]
    },
    {
      "cell_type": "markdown",
      "source": [
        "HERE ALSO THE GRAPH IS INCREASING WITH RESPECT TO TIME "
      ],
      "metadata": {
        "id": "x9MHGm-Au5sM"
      }
    },
    {
      "cell_type": "markdown",
      "source": [
        "EMPIRICAL ANALYSIS OF MERGE SORT USING AVERAGE CASE"
      ],
      "metadata": {
        "id": "3jUY-Dt0u_18"
      }
    },
    {
      "cell_type": "code",
      "source": [
        "import random\n",
        "import time\n",
        "import matplotlib.pyplot as plt\n",
        "l1=[]\n",
        "k=1000\n",
        "\n",
        "\n",
        "ms3=[]\n",
        "inputlist=[]\n",
        "while k<=10000:\n",
        "    print(\"Sorting algorithms for input size k=\",k)\n",
        "    for i in range(0,k):\n",
        "        l1.append(random.randint(0,1000))\n",
        "    \n",
        "    begin=time.time()\n",
        "    for i in range(0,10):\n",
        "        new=l1\n",
        "        mergeSort(new)\n",
        "    end=time.time()\n",
        "    print('For input size ',k,'average time for selection sort algorithm to sort a sorted list',(end-begin)/10)\n",
        "    ms3.append((end-begin)/10)\n",
        "    inputlist.append(k)\n",
        "    begin=time.time()\n",
        "    \n",
        "    k+=1000\n",
        "    print('-'*50)\n",
        "plt.plot(inputlist,ms3,label='mergesort')\n",
        "plt.xlabel('Input List')\n",
        "plt.ylabel('Sorting Time')\n",
        "plt.title('Sorting Algorithms vs Time for sorted list')\n",
        "plt.legend()\n",
        "plt.show()\n"
      ],
      "metadata": {
        "colab": {
          "base_uri": "https://localhost:8080/",
          "height": 816
        },
        "id": "YMCC36p_9nvc",
        "outputId": "06bbd97b-5c69-4ed7-bdec-bb309eb1a7ad"
      },
      "execution_count": null,
      "outputs": [
        {
          "output_type": "stream",
          "name": "stdout",
          "text": [
            "Sorting algorithms for input size k= 1000\n",
            "For input size  1000 average time for selection sort algorithm to sort a sorted list 0.004972004890441894\n",
            "--------------------------------------------------\n",
            "Sorting algorithms for input size k= 2000\n",
            "For input size  2000 average time for selection sort algorithm to sort a sorted list 0.015129852294921874\n",
            "--------------------------------------------------\n",
            "Sorting algorithms for input size k= 3000\n",
            "For input size  3000 average time for selection sort algorithm to sort a sorted list 0.034281253814697266\n",
            "--------------------------------------------------\n",
            "Sorting algorithms for input size k= 4000\n",
            "For input size  4000 average time for selection sort algorithm to sort a sorted list 0.0559218168258667\n",
            "--------------------------------------------------\n",
            "Sorting algorithms for input size k= 5000\n",
            "For input size  5000 average time for selection sort algorithm to sort a sorted list 0.08745160102844238\n",
            "--------------------------------------------------\n",
            "Sorting algorithms for input size k= 6000\n",
            "For input size  6000 average time for selection sort algorithm to sort a sorted list 0.13288772106170654\n",
            "--------------------------------------------------\n",
            "Sorting algorithms for input size k= 7000\n",
            "For input size  7000 average time for selection sort algorithm to sort a sorted list 0.17455799579620362\n",
            "--------------------------------------------------\n",
            "Sorting algorithms for input size k= 8000\n",
            "For input size  8000 average time for selection sort algorithm to sort a sorted list 0.2304748296737671\n",
            "--------------------------------------------------\n",
            "Sorting algorithms for input size k= 9000\n",
            "For input size  9000 average time for selection sort algorithm to sort a sorted list 0.294091534614563\n",
            "--------------------------------------------------\n",
            "Sorting algorithms for input size k= 10000\n",
            "For input size  10000 average time for selection sort algorithm to sort a sorted list 0.36518006324768065\n",
            "--------------------------------------------------\n"
          ]
        },
        {
          "output_type": "display_data",
          "data": {
            "text/plain": [
              "<Figure size 432x288 with 1 Axes>"
            ],
            "image/png": "[encoded data removed]"
          },
          "metadata": {
            "needs_background": "light"
          }
        }
      ]
    },
    {
      "cell_type": "markdown",
      "source": [
        "HERE ALSO THE GRAPH IS INCREASING WITH RESPECT TO TIME "
      ],
      "metadata": {
        "id": "geIRZJ_LvHHW"
      }
    },
    {
      "cell_type": "markdown",
      "source": [
        "WE CAN OBSERVE THAT THE GRAPHS FOR ALL THE THREE CASES I.E BEST,AVG AND WORST IS ALOMOST SIMILAR AND TAKING SIMILAR TIME BECAUSE THE TIME COMPLEXITY FOR ALL THE THREE CASES IS O(NLOGN)."
      ],
      "metadata": {
        "id": "AnZDaAbavNeo"
      }
    }
  ]
}